{
 "cells": [
  {
   "cell_type": "markdown",
   "metadata": {
    "id": "yRje2n5BjFtf"
   },
   "source": [
    "# Статистика по индексу MIX на основе размера тела свечи."
   ]
  },
  {
   "cell_type": "markdown",
   "metadata": {
    "id": "uCBX0QhUg9Bv"
   },
   "source": [
    "Статистика по направлениям (растущая, падающая) после свечи с аномальным (превышающим 75 перцентиль за `PERIOD` свечей) телом свечи.  \n",
    "Проверка гипотезы, что после свечи с аномальным превышением размера тела, следует свеча в том же направлении."
   ]
  },
  {
   "cell_type": "code",
   "execution_count": 1,
   "metadata": {
    "id": "_VGXHmTR6mBZ"
   },
   "outputs": [],
   "source": [
    "PERIOD = 30"
   ]
  },
  {
   "cell_type": "markdown",
   "metadata": {
    "id": "RSlNomMI4zGy"
   },
   "source": [
    "Подключение гугл диска"
   ]
  },
  {
   "cell_type": "code",
   "execution_count": 2,
   "metadata": {
    "colab": {
     "base_uri": "https://localhost:8080/"
    },
    "executionInfo": {
     "elapsed": 7537,
     "status": "ok",
     "timestamp": 1707326643785,
     "user": {
      "displayName": "Alexey Manin",
      "userId": "10096143499430876936"
     },
     "user_tz": -180
    },
    "id": "ZkJRwDQk42-i",
    "outputId": "1ccb5ec8-b52e-48b7-e8c3-a45d2721958b"
   },
   "outputs": [],
   "source": [
    "# Подключение google drive для colab\n",
    "\n",
    "# from google.colab import drive\n",
    "# drive.mount('/content/drive', force_remount=True)"
   ]
  },
  {
   "cell_type": "markdown",
   "metadata": {
    "id": "FI6Vw7BvjVMw"
   },
   "source": [
    "### Подключение к БД."
   ]
  },
  {
   "cell_type": "code",
   "execution_count": 3,
   "metadata": {
    "id": "2rZJnmlNjqus"
   },
   "outputs": [],
   "source": [
    "import pandas as pd\n",
    "import numpy as np\n",
    "import sqlite3"
   ]
  },
  {
   "cell_type": "code",
   "execution_count": 4,
   "metadata": {
    "id": "d5Swlm-XjxzF"
   },
   "outputs": [],
   "source": [
    "# Создание соединения из colab с БД на google drive\n",
    "# connection = sqlite3.connect(r'/content/drive/MyDrive/data_quote_db/MIX_futures_day.db', check_same_thread=True) "
   ]
  },
  {
   "cell_type": "code",
   "execution_count": 5,
   "metadata": {},
   "outputs": [],
   "source": [
    "# Создание соединения из JN с БД на локальной машине\n",
    "connection = sqlite3.connect(r'c:\\Users\\Alkor\\gd\\data_quote_db\\MIX_futures_day.db', check_same_thread=True) "
   ]
  },
  {
   "cell_type": "markdown",
   "metadata": {
    "id": "sKERioY1kfNa"
   },
   "source": [
    "Загрузка данных в таблицу pandas."
   ]
  },
  {
   "cell_type": "code",
   "execution_count": 6,
   "metadata": {
    "colab": {
     "base_uri": "https://localhost:8080/"
    },
    "executionInfo": {
     "elapsed": 15,
     "status": "ok",
     "timestamp": 1707326643787,
     "user": {
      "displayName": "Alexey Manin",
      "userId": "10096143499430876936"
     },
     "user_tz": -180
    },
    "id": "gjlFrN8BknPc",
    "outputId": "36453f4b-56c3-490e-cc5f-f92573a34b6a"
   },
   "outputs": [
    {
     "name": "stdout",
     "output_type": "stream",
     "text": [
      "       TRADEDATE      SECID      OPEN       LOW      HIGH     CLOSE  VOLUME  OPENPOSITION SHORTNAME    LSTTRADE\n",
      "0     2015-01-05  MXH5_2015  142000.0  138525.0  145950.0  145150.0    2587         12938  MIX-3.15  2015-03-16\n",
      "1     2015-01-06  MXH5_2015  144750.0  144350.0  149900.0  149900.0    2953         12760  MIX-3.15  2015-03-16\n",
      "2     2015-01-08  MXH5_2015  149500.0  148200.0  158200.0  156025.0    5567         15098  MIX-3.15  2015-03-16\n",
      "...          ...        ...       ...       ...       ...       ...     ...           ...       ...         ...\n",
      "2303  2024-03-14       MXH4  332925.0  329275.0  332975.0  330650.0   60896         94590  MIX-3.24  2024-03-21\n",
      "2304  2024-03-15       MXH4  330600.0  329850.0  332325.0  331250.0   32069         84632  MIX-3.24  2024-03-21\n",
      "2305  2024-03-18       MXH4  330900.0  329775.0  333150.0  330525.0   36079         66916  MIX-3.24  2024-03-21\n"
     ]
    }
   ],
   "source": [
    "with connection:\n",
    "  df = pd.read_sql('SELECT * FROM Day', connection)  # Загрузка данных из БД\n",
    "\n",
    "print(df.to_string(max_rows=6, max_cols=25))  # Проверка того, что загрузилось"
   ]
  },
  {
   "cell_type": "markdown",
   "metadata": {
    "id": "erJcdDgEHDtD"
   },
   "source": [
    "Конвертация типа дат и сортировка по дате."
   ]
  },
  {
   "cell_type": "code",
   "execution_count": 7,
   "metadata": {
    "id": "s99aNhLbDCHv"
   },
   "outputs": [],
   "source": [
    "df = df.drop(['SECID', 'VOLUME', 'OPENPOSITION', 'SHORTNAME', 'LSTTRADE'], axis=1)  # Очистка от неиспользуемых полей\n",
    "df['TRADEDATE'] = pd.to_datetime(df['TRADEDATE'])\n",
    "# df['LSTTRADE'] = pd.to_datetime(df['LSTTRADE'])\n",
    "df = df.dropna().reset_index(drop=True)\n",
    "df = df.sort_values (by='TRADEDATE', ascending=True)"
   ]
  },
  {
   "cell_type": "markdown",
   "metadata": {
    "id": "6G6RyLWY8siI"
   },
   "source": [
    "Добавление колонки направления бара.  \n",
    "0 - понижающийся бар  \n",
    "1 - повышающийся бар"
   ]
  },
  {
   "cell_type": "code",
   "execution_count": 8,
   "metadata": {
    "colab": {
     "base_uri": "https://localhost:8080/"
    },
    "executionInfo": {
     "elapsed": 14,
     "status": "ok",
     "timestamp": 1707326643787,
     "user": {
      "displayName": "Alexey Manin",
      "userId": "10096143499430876936"
     },
     "user_tz": -180
    },
    "id": "N2FWkfQA718j",
    "outputId": "68cedeba-7499-405f-e011-7323de95277f"
   },
   "outputs": [
    {
     "name": "stdout",
     "output_type": "stream",
     "text": [
      "      TRADEDATE      OPEN       LOW      HIGH     CLOSE Up/Down\n",
      "0    2015-01-05  142000.0  138525.0  145950.0  145150.0      Up\n",
      "1    2015-01-06  144750.0  144350.0  149900.0  149900.0      Up\n",
      "2    2015-01-08  149500.0  148200.0  158200.0  156025.0      Up\n",
      "...         ...       ...       ...       ...       ...     ...\n",
      "2303 2024-03-14  332925.0  329275.0  332975.0  330650.0    Down\n",
      "2304 2024-03-15  330600.0  329850.0  332325.0  331250.0      Up\n",
      "2305 2024-03-18  330900.0  329775.0  333150.0  330525.0    Down\n",
      "\n",
      " Up/Down\n",
      "Up      1203\n",
      "Down    1103\n",
      "Name: count, dtype: int64\n"
     ]
    }
   ],
   "source": [
    "df['Up/Down'] = df.apply(lambda x: 'Up' if (x['OPEN'] < x['CLOSE']) else 'Down', axis=1)\n",
    "print(df.to_string(max_rows=6, max_cols=25))  # Проверка\n",
    "print('\\n', df.value_counts(\"Up/Down\"))  # Подсчет количества баров на повышение и понижение"
   ]
  },
  {
   "cell_type": "markdown",
   "metadata": {
    "id": "FReMOctR9tAV"
   },
   "source": [
    "Размер тела свечи.  \n",
    "Создание колонки с размером тела свечи (Body). Размер тела свечи записан по модулю."
   ]
  },
  {
   "cell_type": "code",
   "execution_count": 9,
   "metadata": {
    "colab": {
     "base_uri": "https://localhost:8080/"
    },
    "executionInfo": {
     "elapsed": 13,
     "status": "ok",
     "timestamp": 1707326643787,
     "user": {
      "displayName": "Alexey Manin",
      "userId": "10096143499430876936"
     },
     "user_tz": -180
    },
    "id": "gjOL6PIl9zKs",
    "outputId": "3175d12d-58fc-4070-e715-da91a0234687"
   },
   "outputs": [
    {
     "name": "stdout",
     "output_type": "stream",
     "text": [
      "      TRADEDATE      OPEN       LOW      HIGH     CLOSE Up/Down    Body\n",
      "0    2015-01-05  142000.0  138525.0  145950.0  145150.0      Up  3150.0\n",
      "1    2015-01-06  144750.0  144350.0  149900.0  149900.0      Up  5150.0\n",
      "2    2015-01-08  149500.0  148200.0  158200.0  156025.0      Up  6525.0\n",
      "...         ...       ...       ...       ...       ...     ...     ...\n",
      "2303 2024-03-14  332925.0  329275.0  332975.0  330650.0    Down  2275.0\n",
      "2304 2024-03-15  330600.0  329850.0  332325.0  331250.0      Up   650.0\n",
      "2305 2024-03-18  330900.0  329775.0  333150.0  330525.0    Down   375.0\n"
     ]
    }
   ],
   "source": [
    "df['Body'] = df.apply(lambda x: abs(x['OPEN'] - x['CLOSE']), axis=1)\n",
    "print(df.to_string(max_rows=6, max_cols=25))  # Проверка"
   ]
  },
  {
   "cell_type": "markdown",
   "metadata": {
    "id": "CiBShZDRKbzo"
   },
   "source": [
    "Создание колонок с предыдущими размерами свечей для вычисления перцентилей.  \n",
    "Количество дней для вычисления перцентилей берется с переменной PERIOD."
   ]
  },
  {
   "cell_type": "code",
   "execution_count": 10,
   "metadata": {
    "colab": {
     "base_uri": "https://localhost:8080/"
    },
    "executionInfo": {
     "elapsed": 13,
     "status": "ok",
     "timestamp": 1707326643787,
     "user": {
      "displayName": "Alexey Manin",
      "userId": "10096143499430876936"
     },
     "user_tz": -180
    },
    "id": "oZKsYFcY-oDZ",
    "outputId": "464948d2-7cff-42af-d95c-3ae6721f2156"
   },
   "outputs": [
    {
     "name": "stdout",
     "output_type": "stream",
     "text": [
      "      TRADEDATE      OPEN       LOW      HIGH     CLOSE Up/Down    Body  Body_1  Body_2  Body_3  Body_4  Body_5  ...  Body_19  Body_20  Body_21  Body_22  Body_23  Body_24  Body_25  Body_26  Body_27  Body_28  Body_29  Body_30\n",
      "0    2015-01-05  142000.0  138525.0  145950.0  145150.0      Up  3150.0     NaN     NaN     NaN     NaN     NaN  ...      NaN      NaN      NaN      NaN      NaN      NaN      NaN      NaN      NaN      NaN      NaN      NaN\n",
      "1    2015-01-06  144750.0  144350.0  149900.0  149900.0      Up  5150.0  3150.0     NaN     NaN     NaN     NaN  ...      NaN      NaN      NaN      NaN      NaN      NaN      NaN      NaN      NaN      NaN      NaN      NaN\n",
      "2    2015-01-08  149500.0  148200.0  158200.0  156025.0      Up  6525.0  5150.0  3150.0     NaN     NaN     NaN  ...      NaN      NaN      NaN      NaN      NaN      NaN      NaN      NaN      NaN      NaN      NaN      NaN\n",
      "...         ...       ...       ...       ...       ...     ...     ...     ...     ...     ...     ...     ...  ...      ...      ...      ...      ...      ...      ...      ...      ...      ...      ...      ...      ...\n",
      "2303 2024-03-14  332925.0  329275.0  332975.0  330650.0    Down  2275.0  1700.0  2250.0   825.0   225.0   950.0  ...     25.0    525.0    550.0    875.0   1775.0   1650.0   1125.0    475.0    800.0    475.0   2000.0   1100.0\n",
      "2304 2024-03-15  330600.0  329850.0  332325.0  331250.0      Up   650.0  2275.0  1700.0  2250.0   825.0   225.0  ...   1325.0     25.0    525.0    550.0    875.0   1775.0   1650.0   1125.0    475.0    800.0    475.0   2000.0\n",
      "2305 2024-03-18  330900.0  329775.0  333150.0  330525.0    Down   375.0   650.0  2275.0  1700.0  2250.0   825.0  ...   3375.0   1325.0     25.0    525.0    550.0    875.0   1775.0   1650.0   1125.0    475.0    800.0    475.0\n"
     ]
    }
   ],
   "source": [
    "for i in range(1, PERIOD + 1):\n",
    "  df[f'Body_{i}'] = df['Body'].shift(i)\n",
    "print(df.to_string(max_rows=6, max_cols=25))  # Проверка"
   ]
  },
  {
   "cell_type": "markdown",
   "metadata": {
    "id": "Tqbnl6mAKim6"
   },
   "source": [
    "Очистка DF от NaN.  \n"
   ]
  },
  {
   "cell_type": "code",
   "execution_count": 11,
   "metadata": {
    "colab": {
     "base_uri": "https://localhost:8080/"
    },
    "executionInfo": {
     "elapsed": 12,
     "status": "ok",
     "timestamp": 1707326643787,
     "user": {
      "displayName": "Alexey Manin",
      "userId": "10096143499430876936"
     },
     "user_tz": -180
    },
    "id": "unNW9IZlH8BQ",
    "outputId": "f390d27b-0221-42d2-8d33-8db01fd47186"
   },
   "outputs": [
    {
     "name": "stdout",
     "output_type": "stream",
     "text": [
      "      TRADEDATE      OPEN       LOW      HIGH     CLOSE Up/Down    Body  Body_1  Body_2  Body_3  Body_4  Body_5  ...  Body_19  Body_20  Body_21  Body_22  Body_23  Body_24  Body_25  Body_26  Body_27  Body_28  Body_29  Body_30\n",
      "0    2015-02-17  181100.0  179075.0  185850.0  179875.0    Down  1225.0  3350.0  2975.0  3100.0  2250.0   975.0  ...   5000.0   1325.0   2175.0   3400.0    125.0   1150.0   2850.0   1900.0    600.0   6525.0   5150.0   3150.0\n",
      "1    2015-02-18  179850.0  179750.0  185000.0  181925.0      Up  2075.0  1225.0  3350.0  2975.0  3100.0  2250.0  ...   5825.0   5000.0   1325.0   2175.0   3400.0    125.0   1150.0   2850.0   1900.0    600.0   6525.0   5150.0\n",
      "2    2015-02-19  182250.0  176750.0  183475.0  180700.0    Down  1550.0  2075.0  1225.0  3350.0  2975.0  3100.0  ...     50.0   5825.0   5000.0   1325.0   2175.0   3400.0    125.0   1150.0   2850.0   1900.0    600.0   6525.0\n",
      "...         ...       ...       ...       ...       ...     ...     ...     ...     ...     ...     ...     ...  ...      ...      ...      ...      ...      ...      ...      ...      ...      ...      ...      ...      ...\n",
      "2273 2024-03-14  332925.0  329275.0  332975.0  330650.0    Down  2275.0  1700.0  2250.0   825.0   225.0   950.0  ...     25.0    525.0    550.0    875.0   1775.0   1650.0   1125.0    475.0    800.0    475.0   2000.0   1100.0\n",
      "2274 2024-03-15  330600.0  329850.0  332325.0  331250.0      Up   650.0  2275.0  1700.0  2250.0   825.0   225.0  ...   1325.0     25.0    525.0    550.0    875.0   1775.0   1650.0   1125.0    475.0    800.0    475.0   2000.0\n",
      "2275 2024-03-18  330900.0  329775.0  333150.0  330525.0    Down   375.0   650.0  2275.0  1700.0  2250.0   825.0  ...   3375.0   1325.0     25.0    525.0    550.0    875.0   1775.0   1650.0   1125.0    475.0    800.0    475.0\n"
     ]
    }
   ],
   "source": [
    "df = df.dropna().reset_index(drop=True)\n",
    "print(df.to_string(max_rows=6, max_cols=25))  # Проверка"
   ]
  },
  {
   "cell_type": "markdown",
   "metadata": {
    "id": "FJWLApG7KJnC"
   },
   "source": [
    "Создание колонки с расчетом 75 перцентиля (per75) и удаление колонок с предыдущими значениями тел свечей."
   ]
  },
  {
   "cell_type": "code",
   "execution_count": 12,
   "metadata": {
    "colab": {
     "base_uri": "https://localhost:8080/"
    },
    "executionInfo": {
     "elapsed": 1005,
     "status": "ok",
     "timestamp": 1707326644781,
     "user": {
      "displayName": "Alexey Manin",
      "userId": "10096143499430876936"
     },
     "user_tz": -180
    },
    "id": "NgCa60w-FQfd",
    "outputId": "8bae0c0b-cfc0-448a-e91b-c856fc83712f"
   },
   "outputs": [
    {
     "name": "stdout",
     "output_type": "stream",
     "text": [
      "      TRADEDATE      OPEN       LOW      HIGH     CLOSE Up/Down    Body    per75\n",
      "0    2015-02-17  181100.0  179075.0  185850.0  179875.0    Down  1225.0  3387.50\n",
      "1    2015-02-18  179850.0  179750.0  185000.0  181925.0      Up  2075.0  3387.50\n",
      "2    2015-02-19  182250.0  176750.0  183475.0  180700.0    Down  1550.0  3306.25\n",
      "...         ...       ...       ...       ...       ...     ...     ...      ...\n",
      "2273 2024-03-14  332925.0  329275.0  332975.0  330650.0    Down  2275.0  1943.75\n",
      "2274 2024-03-15  330600.0  329850.0  332325.0  331250.0      Up   650.0  2187.50\n",
      "2275 2024-03-18  330900.0  329775.0  333150.0  330525.0    Down   375.0  2131.25\n"
     ]
    }
   ],
   "source": [
    "# Создание колонки с расчетом 75 перцентиля (per75) и удаление колонок с предыдущими значениями тел свечей.\n",
    "df['per75'] = df.apply(lambda x: np.percentile([x[f'Body_{i}'] for i in range(1, PERIOD + 1)], 75), axis=1)\n",
    "drop_column_lst = [f'Body_{i}' for i in range(1, PERIOD + 1)]\n",
    "df = df.drop(drop_column_lst, axis=1)\n",
    "print(df.to_string(max_rows=6, max_cols=25))  # Проверка"
   ]
  },
  {
   "cell_type": "markdown",
   "metadata": {
    "id": "HSvy-dPhhtD2"
   },
   "source": [
    "Создание колонки с маркерами выбросов больше 75 перцентиля (Over_per75).  \n",
    "0 - нет превышения 75 перцентиля по размеру тела свечи.  \n",
    "1 - есть превышение 75 перцентиля по размеру тела свечи."
   ]
  },
  {
   "cell_type": "code",
   "execution_count": 13,
   "metadata": {
    "colab": {
     "base_uri": "https://localhost:8080/"
    },
    "executionInfo": {
     "elapsed": 8,
     "status": "ok",
     "timestamp": 1707326644781,
     "user": {
      "displayName": "Alexey Manin",
      "userId": "10096143499430876936"
     },
     "user_tz": -180
    },
    "id": "KYzWOpUsLB9y",
    "outputId": "d18f2eae-7c70-4191-ab56-64867eb83c14"
   },
   "outputs": [
    {
     "name": "stdout",
     "output_type": "stream",
     "text": [
      "      TRADEDATE      OPEN       LOW      HIGH     CLOSE Up/Down    Body    per75  Over_per75\n",
      "0    2015-02-17  181100.0  179075.0  185850.0  179875.0    Down  1225.0  3387.50       False\n",
      "1    2015-02-18  179850.0  179750.0  185000.0  181925.0      Up  2075.0  3387.50       False\n",
      "2    2015-02-19  182250.0  176750.0  183475.0  180700.0    Down  1550.0  3306.25       False\n",
      "...         ...       ...       ...       ...       ...     ...     ...      ...         ...\n",
      "2273 2024-03-14  332925.0  329275.0  332975.0  330650.0    Down  2275.0  1943.75        True\n",
      "2274 2024-03-15  330600.0  329850.0  332325.0  331250.0      Up   650.0  2187.50       False\n",
      "2275 2024-03-18  330900.0  329775.0  333150.0  330525.0    Down   375.0  2131.25       False\n"
     ]
    }
   ],
   "source": [
    "df['Over_per75'] = df.apply(lambda x: True if (x['Body'] > x['per75']) else False, axis=1)\n",
    "print(df.to_string(max_rows=6, max_cols=25))  # Проверка"
   ]
  },
  {
   "cell_type": "markdown",
   "metadata": {
    "id": "_Kxg-SSTh99L"
   },
   "source": [
    "Создание колонки с маркерами выбросов больше 75 пецентиля для предыдущего бара (prev_Over_per75).  \n",
    "Создание колонки с направлением предыдущнго бара (prev_Up/Down)."
   ]
  },
  {
   "cell_type": "code",
   "execution_count": 14,
   "metadata": {
    "colab": {
     "base_uri": "https://localhost:8080/"
    },
    "executionInfo": {
     "elapsed": 7,
     "status": "ok",
     "timestamp": 1707326644782,
     "user": {
      "displayName": "Alexey Manin",
      "userId": "10096143499430876936"
     },
     "user_tz": -180
    },
    "id": "EoeotCtRQWfi",
    "outputId": "750c97f2-ec33-46be-9dff-42df480325dc"
   },
   "outputs": [
    {
     "name": "stdout",
     "output_type": "stream",
     "text": [
      "      TRADEDATE      OPEN       LOW      HIGH     CLOSE Up/Down    Body    per75  Over_per75 prev_Up/Down prev_Over_per75\n",
      "0    2015-02-17  181100.0  179075.0  185850.0  179875.0    Down  1225.0  3387.50       False         None             NaN\n",
      "1    2015-02-18  179850.0  179750.0  185000.0  181925.0      Up  2075.0  3387.50       False         Down           False\n",
      "2    2015-02-19  182250.0  176750.0  183475.0  180700.0    Down  1550.0  3306.25       False           Up           False\n",
      "...         ...       ...       ...       ...       ...     ...     ...      ...         ...          ...             ...\n",
      "2273 2024-03-14  332925.0  329275.0  332975.0  330650.0    Down  2275.0  1943.75        True         Down           False\n",
      "2274 2024-03-15  330600.0  329850.0  332325.0  331250.0      Up   650.0  2187.50       False         Down            True\n",
      "2275 2024-03-18  330900.0  329775.0  333150.0  330525.0    Down   375.0  2131.25       False           Up           False\n"
     ]
    }
   ],
   "source": [
    "df['prev_Up/Down'] = df['Up/Down'].shift(1)\n",
    "df['prev_Over_per75'] = df['Over_per75'].shift(1)\n",
    "print(df.to_string(max_rows=6, max_cols=25))  # Проверка"
   ]
  },
  {
   "cell_type": "markdown",
   "metadata": {
    "id": "WaDavSTkidCy"
   },
   "source": [
    "Очитка от NaN и смена типа на int"
   ]
  },
  {
   "cell_type": "code",
   "execution_count": 15,
   "metadata": {
    "colab": {
     "base_uri": "https://localhost:8080/"
    },
    "executionInfo": {
     "elapsed": 6,
     "status": "ok",
     "timestamp": 1707326644782,
     "user": {
      "displayName": "Alexey Manin",
      "userId": "10096143499430876936"
     },
     "user_tz": -180
    },
    "id": "asXf_vCPR8aa",
    "outputId": "cf882dc1-2268-4ee2-bdc1-c04717566ed3"
   },
   "outputs": [
    {
     "name": "stdout",
     "output_type": "stream",
     "text": [
      "      TRADEDATE      OPEN       LOW      HIGH     CLOSE Up/Down    Body    per75  Over_per75 prev_Up/Down prev_Over_per75\n",
      "0    2015-02-18  179850.0  179750.0  185000.0  181925.0      Up  2075.0  3387.50       False         Down           False\n",
      "1    2015-02-19  182250.0  176750.0  183475.0  180700.0    Down  1550.0  3306.25       False           Up           False\n",
      "2    2015-02-20  180525.0  178925.0  183200.0  180575.0      Up    50.0  3156.25       False         Down           False\n",
      "...         ...       ...       ...       ...       ...     ...     ...      ...         ...          ...             ...\n",
      "2272 2024-03-14  332925.0  329275.0  332975.0  330650.0    Down  2275.0  1943.75        True         Down           False\n",
      "2273 2024-03-15  330600.0  329850.0  332325.0  331250.0      Up   650.0  2187.50       False         Down            True\n",
      "2274 2024-03-18  330900.0  329775.0  333150.0  330525.0    Down   375.0  2131.25       False           Up           False\n"
     ]
    }
   ],
   "source": [
    "df = df.dropna().reset_index(drop=True)\n",
    "# df[['prev_Up/Down', 'prev_Over_per75']] = df[['prev_Up/Down', 'prev_Over_per75']].astype(int)\n",
    "print(df.to_string(max_rows=6, max_cols=25))  # Проверка"
   ]
  },
  {
   "cell_type": "markdown",
   "metadata": {
    "id": "Mq21Umz4KaLe"
   },
   "source": [
    "Проверка гипотезы, что после свечи с аномальным превышением размера тела, следует свеча в том же направлении.  \n",
    "-1 - гипотеза не подтверждается.  \n",
    "0 - Без проверки гипотезы на этой свече (нет условия анамального размера тела предыдущей свечи).  \n",
    "1 - Гипотеза подтверждается.  "
   ]
  },
  {
   "cell_type": "code",
   "execution_count": 16,
   "metadata": {
    "colab": {
     "base_uri": "https://localhost:8080/"
    },
    "executionInfo": {
     "elapsed": 6,
     "status": "ok",
     "timestamp": 1707326644782,
     "user": {
      "displayName": "Alexey Manin",
      "userId": "10096143499430876936"
     },
     "user_tz": -180
    },
    "id": "tvYz35r9UAF2",
    "outputId": "99983edf-fcfa-44d6-d461-c7e8b4fdb8b0"
   },
   "outputs": [
    {
     "name": "stdout",
     "output_type": "stream",
     "text": [
      "      TRADEDATE      OPEN       LOW      HIGH     CLOSE Up/Down    Body    per75  Over_per75 prev_Up/Down prev_Over_per75  Rez\n",
      "0    2015-02-18  179850.0  179750.0  185000.0  181925.0      Up  2075.0  3387.50       False         Down           False    0\n",
      "1    2015-02-19  182250.0  176750.0  183475.0  180700.0    Down  1550.0  3306.25       False           Up           False    0\n",
      "2    2015-02-20  180525.0  178925.0  183200.0  180575.0      Up    50.0  3156.25       False         Down           False    0\n",
      "...         ...       ...       ...       ...       ...     ...     ...      ...         ...          ...             ...  ...\n",
      "2272 2024-03-14  332925.0  329275.0  332975.0  330650.0    Down  2275.0  1943.75        True         Down           False    0\n",
      "2273 2024-03-15  330600.0  329850.0  332325.0  331250.0      Up   650.0  2187.50       False         Down            True   -1\n",
      "2274 2024-03-18  330900.0  329775.0  333150.0  330525.0    Down   375.0  2131.25       False           Up           False    0\n",
      "\n",
      " Rez\n",
      " 0    1664\n",
      " 1     312\n",
      "-1     299\n",
      "Name: count, dtype: int64\n"
     ]
    }
   ],
   "source": [
    "def rez(up_down, prev_up_down, prev_over_per75):\n",
    "    if (up_down == prev_up_down) and (prev_over_per75 == 1):\n",
    "        return 1\n",
    "    elif (up_down != prev_up_down) and (prev_over_per75 == 1):\n",
    "        return -1\n",
    "    else:\n",
    "        return 0\n",
    "\n",
    "df['Rez'] = df.apply(lambda x: rez(x['Up/Down'], x['prev_Up/Down'], x['prev_Over_per75']), axis=1)\n",
    "print(df.to_string(max_rows=6, max_cols=25))  # Проверка\n",
    "print('\\n', df.value_counts(\"Rez\"))"
   ]
  },
  {
   "cell_type": "markdown",
   "metadata": {
    "id": "HuuE70YC5v3u"
   },
   "source": [
    "По результату видно, что количественная оценка не подтверждает гипотезу, что после свечи с аномальным превышением размера тела, следует свеча в том же направлении.  "
   ]
  },
  {
   "cell_type": "markdown",
   "metadata": {
    "id": "yiMLQzEn52w8"
   },
   "source": [
    "---"
   ]
  },
  {
   "cell_type": "markdown",
   "metadata": {
    "id": "ohQ-NjFcMT3x"
   },
   "source": [
    "Количественная оценка не может быть показателем для применения на практике т.к. аномальные размеры тела свечи в периоды спокойного рынка и в периоды высокой волатильности, очень сильно различаются.  \n",
    "Подсчитаем сумму размеров тел свечей идущих следом за свечами с аномальным размером тела. С учетом направления. Своего рода симуляция торговли. Результат получен положительный.  "
   ]
  },
  {
   "cell_type": "code",
   "execution_count": 17,
   "metadata": {
    "colab": {
     "base_uri": "https://localhost:8080/"
    },
    "executionInfo": {
     "elapsed": 4,
     "status": "ok",
     "timestamp": 1707326644782,
     "user": {
      "displayName": "Alexey Manin",
      "userId": "10096143499430876936"
     },
     "user_tz": -180
    },
    "id": "Z5xT81STYQ7m",
    "outputId": "b5017442-8054-43d5-99ee-81afffb1c6dc"
   },
   "outputs": [
    {
     "name": "stdout",
     "output_type": "stream",
     "text": [
      "      TRADEDATE      OPEN       LOW      HIGH     CLOSE Up/Down    Body    per75  Over_per75 prev_Up/Down prev_Over_per75  Rez  Rez_value   Rez_cum\n",
      "0    2015-02-18  179850.0  179750.0  185000.0  181925.0      Up  2075.0  3387.50       False         Down           False    0        0.0       0.0\n",
      "1    2015-02-19  182250.0  176750.0  183475.0  180700.0    Down  1550.0  3306.25       False           Up           False    0        0.0       0.0\n",
      "2    2015-02-20  180525.0  178925.0  183200.0  180575.0      Up    50.0  3156.25       False         Down           False    0        0.0       0.0\n",
      "...         ...       ...       ...       ...       ...     ...     ...      ...         ...          ...             ...  ...        ...       ...\n",
      "2272 2024-03-14  332925.0  329275.0  332975.0  330650.0    Down  2275.0  1943.75        True         Down           False    0        0.0  224500.0\n",
      "2273 2024-03-15  330600.0  329850.0  332325.0  331250.0      Up   650.0  2187.50       False         Down            True   -1     -650.0  223850.0\n",
      "2274 2024-03-18  330900.0  329775.0  333150.0  330525.0    Down   375.0  2131.25       False           Up           False    0        0.0  223850.0\n",
      "\n",
      " Rez_value    223850.0\n",
      "dtype: float64\n"
     ]
    }
   ],
   "source": [
    "def rez_value(body, rez):\n",
    "    if rez == 1:\n",
    "        return body\n",
    "    elif rez == -1:\n",
    "        return -body\n",
    "    else:\n",
    "        return 0\n",
    "\n",
    "df_body = df.copy(deep=True)  # Создание копии\n",
    "df_body['Rez_value'] = df_body.apply(lambda x: rez_value(x['Body'], x['Rez']), axis=1)\n",
    "df_body[\"Rez_cum\"] = df_body[\"Rez_value\"].cumsum()\n",
    "print(df_body.to_string(max_rows=6, max_cols=25))  # Проверка\n",
    "print('\\n', df_body[['Rez_value']].sum())  # Сумма всех элементов в колонке"
   ]
  },
  {
   "cell_type": "markdown",
   "metadata": {
    "id": "xlCnecr2Oj4P"
   },
   "source": [
    "Строим график симуляции торговли по гипотезе."
   ]
  },
  {
   "cell_type": "code",
   "execution_count": 18,
   "metadata": {
    "colab": {
     "base_uri": "https://localhost:8080/",
     "height": 548
    },
    "executionInfo": {
     "elapsed": 1621,
     "status": "ok",
     "timestamp": 1707326646400,
     "user": {
      "displayName": "Alexey Manin",
      "userId": "10096143499430876936"
     },
     "user_tz": -180
    },
    "id": "6oKOz-hnfkYo",
    "outputId": "3dd26939-5b04-49af-c2e2-ba5b425deee6"
   },
   "outputs": [
    {
     "data": {
      "image/png": "[encoded data removed]",
      "text/plain": [
       "<Figure size 1000x520 with 1 Axes>"
      ]
     },
     "metadata": {},
     "output_type": "display_data"
    }
   ],
   "source": [
    "from matplotlib import pyplot as plt\n",
    "import seaborn as sns\n",
    "def _plot_series(series, series_name, series_index=0):\n",
    "  from matplotlib import pyplot as plt\n",
    "  import seaborn as sns\n",
    "  palette = list(sns.palettes.mpl_palette('Dark2'))\n",
    "  xs = series['TRADEDATE']\n",
    "  ys = series['Rez_cum']\n",
    "\n",
    "  plt.plot(xs, ys, label=series_name, color=palette[series_index % len(palette)])\n",
    "\n",
    "fig, ax = plt.subplots(figsize=(10, 5.2), layout='constrained')\n",
    "df_sorted = df_body.sort_values('TRADEDATE', ascending=True)\n",
    "_plot_series(df_sorted, '')\n",
    "sns.despine(fig=fig, ax=ax)\n",
    "plt.xlabel('Годы')\n",
    "plt.title('Поупки или продажи при экстремальном размере предыдущей свечи')\n",
    "plt.grid()\n",
    "_ = plt.ylabel('Rez_cum')"
   ]
  },
  {
   "cell_type": "markdown",
   "metadata": {
    "id": "BCUxZN_wPhJC"
   },
   "source": [
    "График не по годам, а по количеству сделок"
   ]
  },
  {
   "cell_type": "code",
   "execution_count": 19,
   "metadata": {
    "colab": {
     "base_uri": "https://localhost:8080/",
     "height": 390
    },
    "executionInfo": {
     "elapsed": 7,
     "status": "ok",
     "timestamp": 1707326646400,
     "user": {
      "displayName": "Alexey Manin",
      "userId": "10096143499430876936"
     },
     "user_tz": -180
    },
    "id": "XUzV_9VNexWw",
    "outputId": "fc39a995-c93b-44de-e068-853358ba8b2a"
   },
   "outputs": [
    {
     "data": {
      "image/png": "[encoded data removed]",
      "text/plain": [
       "<Figure size 800x400 with 1 Axes>"
      ]
     },
     "metadata": {},
     "output_type": "display_data"
    }
   ],
   "source": [
    "from matplotlib import pyplot as plt\n",
    "df_body['Rez_cum'].plot(kind='line', figsize=(8, 4), title='Rez_cum')\n",
    "plt.gca().spines[['top', 'right']].set_visible(False)\n",
    "plt.grid()"
   ]
  },
  {
   "cell_type": "markdown",
   "metadata": {
    "id": "TIm5ysIdO4UG"
   },
   "source": [
    "## Выводы:  \n",
    "1. Гипотеза: после свечи с аномальным превышением размера тела, следует свеча в том же направлении, не подтвердилась в количественном выражении.  \n",
    "2. Симуляция торговли с использованием гипотезы дала положительный результат.  \n",
    "3. Если рассматривать график результатов симуляции торговли, то можно сделать вывод, что положительный результат торговли достигается в периоды повышенной волатильности рынка (COVID-19, СВО)."
   ]
  },
  {
   "cell_type": "markdown",
   "metadata": {
    "id": "M0MBFeJy90ZT"
   },
   "source": [
    "---"
   ]
  },
  {
   "cell_type": "markdown",
   "metadata": {
    "id": "pYRWruBl912P"
   },
   "source": [
    "## Добавление симуляции торговли по дням недели\n"
   ]
  },
  {
   "cell_type": "markdown",
   "metadata": {
    "id": "KVyt27QT_QQZ"
   },
   "source": [
    "Создание и заполнение колонки с торговым днем недели (Work_day).  \n",
    "0 - Понедельник  \n",
    "1 - Вторник  \n",
    "и т.д."
   ]
  },
  {
   "cell_type": "code",
   "execution_count": 20,
   "metadata": {
    "colab": {
     "base_uri": "https://localhost:8080/"
    },
    "executionInfo": {
     "elapsed": 6,
     "status": "ok",
     "timestamp": 1707326646400,
     "user": {
      "displayName": "Alexey Manin",
      "userId": "10096143499430876936"
     },
     "user_tz": -180
    },
    "id": "QgXhrnu3_RaY",
    "outputId": "35583ae0-9499-411c-a30c-7ff0df4a73c3"
   },
   "outputs": [
    {
     "name": "stdout",
     "output_type": "stream",
     "text": [
      "      TRADEDATE      OPEN       LOW      HIGH     CLOSE Up/Down    Body    per75  Over_per75 prev_Up/Down prev_Over_per75  Rez  Work_day\n",
      "0    2015-02-18  179850.0  179750.0  185000.0  181925.0      Up  2075.0  3387.50       False         Down           False    0         2\n",
      "1    2015-02-19  182250.0  176750.0  183475.0  180700.0    Down  1550.0  3306.25       False           Up           False    0         3\n",
      "2    2015-02-20  180525.0  178925.0  183200.0  180575.0      Up    50.0  3156.25       False         Down           False    0         4\n",
      "...         ...       ...       ...       ...       ...     ...     ...      ...         ...          ...             ...  ...       ...\n",
      "2272 2024-03-14  332925.0  329275.0  332975.0  330650.0    Down  2275.0  1943.75        True         Down           False    0         3\n",
      "2273 2024-03-15  330600.0  329850.0  332325.0  331250.0      Up   650.0  2187.50       False         Down            True   -1         4\n",
      "2274 2024-03-18  330900.0  329775.0  333150.0  330525.0    Down   375.0  2131.25       False           Up           False    0         0\n"
     ]
    }
   ],
   "source": [
    "df['Work_day'] = df['TRADEDATE'].dt.weekday\n",
    "\n",
    "df[['Work_day']] = df[['Work_day']].astype(int)\n",
    "df = df.sort_values(by='TRADEDATE', ascending=True)  # Сортировка по возрастанию\n",
    "print(df.to_string(max_rows=6, max_cols=25))  # Проверка"
   ]
  },
  {
   "cell_type": "markdown",
   "metadata": {
    "id": "qFv9JBaY_8Eg"
   },
   "source": [
    "Создание колонки с результатом при продажах при экстремальном размере тела предыдущей свечи на понижение и покупки в понедельник вторник среду."
   ]
  },
  {
   "cell_type": "code",
   "execution_count": 21,
   "metadata": {
    "colab": {
     "base_uri": "https://localhost:8080/"
    },
    "executionInfo": {
     "elapsed": 6,
     "status": "ok",
     "timestamp": 1707326646400,
     "user": {
      "displayName": "Alexey Manin",
      "userId": "10096143499430876936"
     },
     "user_tz": -180
    },
    "id": "87u7CTtX_8oX",
    "outputId": "7d122ffb-411a-4965-a0fe-59d580597e2e"
   },
   "outputs": [
    {
     "name": "stdout",
     "output_type": "stream",
     "text": [
      "      TRADEDATE      OPEN       LOW      HIGH     CLOSE Up/Down    Body    per75  Over_per75 prev_Up/Down prev_Over_per75  Rez  Work_day  Rez_value   Rez_cum\n",
      "0    2015-02-18  179850.0  179750.0  185000.0  181925.0      Up  2075.0  3387.50       False         Down           False    0         2     2075.0    2075.0\n",
      "1    2015-02-19  182250.0  176750.0  183475.0  180700.0    Down  1550.0  3306.25       False           Up           False    0         3        0.0    2075.0\n",
      "2    2015-02-20  180525.0  178925.0  183200.0  180575.0      Up    50.0  3156.25       False         Down           False    0         4        0.0    2075.0\n",
      "3    2015-02-24  180300.0  176500.0  181800.0  178250.0    Down  2050.0  3156.25       False           Up           False    0         1    -2050.0      25.0\n",
      "4    2015-02-25  178200.0  173450.0  179100.0  174750.0    Down  3450.0  3156.25        True         Down           False    0         2    -3450.0   -3425.0\n",
      "5    2015-02-26  175000.0  174075.0  177925.0  176400.0      Up  1400.0  3306.25       False         Down            True   -1         3    -1400.0   -4825.0\n",
      "6    2015-02-27  176350.0  174050.0  177925.0  177450.0      Up  1100.0  3306.25       False           Up           False    0         4        0.0   -4825.0\n",
      "7    2015-03-02  177500.0  177175.0  180075.0  178500.0      Up  1000.0  3306.25       False           Up           False    0         0     1000.0   -3825.0\n",
      "8    2015-03-03  178600.0  177450.0  183525.0  181450.0      Up  2850.0  3156.25       False           Up           False    0         1     2850.0    -975.0\n",
      "9    2015-03-04  181250.0  176175.0  182675.0  176900.0    Down  4350.0  3156.25        True           Up           False    0         2    -4350.0   -5325.0\n",
      "...         ...       ...       ...       ...       ...     ...     ...      ...         ...          ...             ...  ...       ...        ...       ...\n",
      "2265 2024-03-04  329200.0  329025.0  331900.0  331650.0      Up  2450.0  1606.25        True           Up           False    0         0     2450.0  512725.0\n",
      "2266 2024-03-05  331625.0  330400.0  333225.0  331725.0      Up   100.0  1743.75       False           Up            True    1         1      100.0  512825.0\n",
      "2267 2024-03-06  331725.0  330775.0  333475.0  332675.0      Up   950.0  1743.75       False           Up           False    0         2      950.0  513775.0\n",
      "2268 2024-03-07  332750.0  331750.0  333100.0  332975.0      Up   225.0  1743.75       False           Up           False    0         3        0.0  513775.0\n",
      "2269 2024-03-11  332950.0  332100.0  334800.0  332125.0    Down   825.0  1743.75       False           Up           False    0         0     -825.0  512950.0\n",
      "2270 2024-03-12  332150.0  330625.0  334475.0  334400.0      Up  2250.0  1743.75        True         Down           False    0         1     2250.0  515200.0\n",
      "2271 2024-03-13  334500.0  332650.0  335125.0  332800.0    Down  1700.0  1943.75       False           Up            True   -1         2    -1700.0  513500.0\n",
      "2272 2024-03-14  332925.0  329275.0  332975.0  330650.0    Down  2275.0  1943.75        True         Down           False    0         3        0.0  513500.0\n",
      "2273 2024-03-15  330600.0  329850.0  332325.0  331250.0      Up   650.0  2187.50       False         Down            True   -1         4     -650.0  512850.0\n",
      "2274 2024-03-18  330900.0  329775.0  333150.0  330525.0    Down   375.0  2131.25       False           Up           False    0         0     -375.0  512475.0\n",
      "\n",
      " Rez_value    512475.0\n",
      "dtype: float64\n"
     ]
    }
   ],
   "source": [
    "def rez_value(prev_Over_per75, prev_Up_Down, Up_Down, Work_day, body):\n",
    "    if (prev_Over_per75 == True) and (prev_Up_Down == 'Down') and (Up_Down == 'Down'):\n",
    "      return body\n",
    "    elif (prev_Over_per75 == True) and (prev_Up_Down == 'Down') and (Up_Down == 'Up'):\n",
    "      return -body\n",
    "    elif (Work_day < 3) and (Up_Down == 'Up'):\n",
    "      return body\n",
    "    elif (Work_day < 3) and (Up_Down == 'Down'):\n",
    "      return -body\n",
    "    else:\n",
    "      return 0\n",
    "\n",
    "df['Rez_value'] = df.apply(lambda x: rez_value(x['prev_Over_per75'],\n",
    "                                               x['prev_Up/Down'],\n",
    "                                               x['Up/Down'],\n",
    "                                               x['Work_day'],\n",
    "                                               x['Body'], ), axis=1)\n",
    "df[\"Rez_cum\"] = df[\"Rez_value\"].cumsum()\n",
    "print(df.to_string(max_rows=20, max_cols=25))  # Проверка\n",
    "print('\\n', df[['Rez_value']].sum())  # Сумма всех элементов в колонке"
   ]
  },
  {
   "cell_type": "markdown",
   "metadata": {
    "id": "9IvkWrBYE82_"
   },
   "source": [
    "Строим график симуляции торговли по гипотезе."
   ]
  },
  {
   "cell_type": "code",
   "execution_count": 22,
   "metadata": {
    "colab": {
     "base_uri": "https://localhost:8080/",
     "height": 548
    },
    "executionInfo": {
     "elapsed": 1393,
     "status": "ok",
     "timestamp": 1707326647788,
     "user": {
      "displayName": "Alexey Manin",
      "userId": "10096143499430876936"
     },
     "user_tz": -180
    },
    "id": "xf89YPr8FiUa",
    "outputId": "63f9eb4e-b7df-407f-a948-423e31aac839"
   },
   "outputs": [
    {
     "data": {
      "image/png": "[encoded data removed]",
      "text/plain": [
       "<Figure size 1000x520 with 1 Axes>"
      ]
     },
     "metadata": {},
     "output_type": "display_data"
    }
   ],
   "source": [
    "from matplotlib import pyplot as plt\n",
    "import seaborn as sns\n",
    "def _plot_series(series, series_name, series_index=0):\n",
    "  palette = list(sns.palettes.mpl_palette('Dark2'))\n",
    "  xs = series['TRADEDATE']\n",
    "  ys = series['Rez_cum']\n",
    "\n",
    "  plt.plot(xs, ys, label=series_name, color=palette[series_index % len(palette)])\n",
    "\n",
    "fig, ax = plt.subplots(figsize=(10, 5.2), layout='constrained')\n",
    "df_sorted = df.sort_values('TRADEDATE', ascending=True)\n",
    "_plot_series(df_sorted, '')\n",
    "sns.despine(fig=fig, ax=ax)\n",
    "plt.xlabel('Годы')\n",
    "plt.title('Продажи при экстремальном размере тела предыдущей свечи на понижение, покупки в понедельник вторник среду')\n",
    "plt.grid()\n",
    "_ = plt.ylabel('Rez_cum')"
   ]
  },
  {
   "cell_type": "markdown",
   "metadata": {
    "id": "I3ds3VIanbQ0"
   },
   "source": [
    "---"
   ]
  },
  {
   "cell_type": "markdown",
   "metadata": {
    "id": "ZEeFBc88nF5o"
   },
   "source": [
    "### Сравнение доходности стратегии с индексом полной доходности MCFTR."
   ]
  },
  {
   "cell_type": "code",
   "execution_count": 23,
   "metadata": {
    "colab": {
     "base_uri": "https://localhost:8080/"
    },
    "executionInfo": {
     "elapsed": 7293,
     "status": "ok",
     "timestamp": 1707326655077,
     "user": {
      "displayName": "Alexey Manin",
      "userId": "10096143499430876936"
     },
     "user_tz": -180
    },
    "id": "dotHBm1onanO",
    "outputId": "bf9775c0-4212-44b8-af2d-16b196fdcbaf"
   },
   "outputs": [
    {
     "name": "stdout",
     "output_type": "stream",
     "text": [
      "Note: you may need to restart the kernel to use updated packages.\n"
     ]
    },
    {
     "name": "stderr",
     "output_type": "stream",
     "text": [
      "ERROR: Invalid requirement: '#'\n"
     ]
    }
   ],
   "source": [
    "pip install apimoex  # Инсталяция библиотеки для запросов к серверу MOEX"
   ]
  },
  {
   "cell_type": "code",
   "execution_count": 24,
   "metadata": {
    "id": "PrYbl-65qmVz"
   },
   "outputs": [
    {
     "ename": "ModuleNotFoundError",
     "evalue": "No module named 'apimoex'",
     "output_type": "error",
     "traceback": [
      "\u001b[1;31m---------------------------------------------------------------------------\u001b[0m",
      "\u001b[1;31mModuleNotFoundError\u001b[0m                       Traceback (most recent call last)",
      "Cell \u001b[1;32mIn[24], line 1\u001b[0m\n\u001b[1;32m----> 1\u001b[0m \u001b[38;5;28;01mimport\u001b[39;00m \u001b[38;5;21;01mapimoex\u001b[39;00m\n\u001b[0;32m      2\u001b[0m \u001b[38;5;28;01mimport\u001b[39;00m \u001b[38;5;21;01mrequests\u001b[39;00m\n\u001b[0;32m      3\u001b[0m \u001b[38;5;28;01mfrom\u001b[39;00m \u001b[38;5;21;01mdatetime\u001b[39;00m \u001b[38;5;28;01mimport\u001b[39;00m datetime, timedelta, date\n",
      "\u001b[1;31mModuleNotFoundError\u001b[0m: No module named 'apimoex'"
     ]
    }
   ],
   "source": [
    "import apimoex\n",
    "import requests\n",
    "from datetime import datetime, timedelta, date"
   ]
  },
  {
   "cell_type": "code",
   "execution_count": null,
   "metadata": {
    "colab": {
     "base_uri": "https://localhost:8080/"
    },
    "executionInfo": {
     "elapsed": 1625,
     "status": "ok",
     "timestamp": 1707326656694,
     "user": {
      "displayName": "Alexey Manin",
      "userId": "10096143499430876936"
     },
     "user_tz": -180
    },
    "id": "um_k7QmBnmg_",
    "outputId": "8b526d01-a427-4b74-99ed-6f6a81fc5599"
   },
   "outputs": [],
   "source": [
    "start_date = '2015-01-01'\n",
    "end_date = (datetime.now().date() - timedelta(days=1)).strftime(\"%Y-%m-%d\")  #\n",
    "\n",
    "with requests.Session() as session:\n",
    "    data = apimoex.get_market_candles(\n",
    "        session=session,\n",
    "        security=\"mcftr\",\n",
    "        market=\"index\",\n",
    "        engine=\"stock\",\n",
    "        interval=24,\n",
    "        start = start_date,\n",
    "        end = end_date,\n",
    "        columns = ('begin', 'open', 'close', 'high', 'low',),\n",
    "    )\n",
    "    df_idx = pd.DataFrame(data)\n",
    "\n",
    "print(df_idx)"
   ]
  },
  {
   "cell_type": "markdown",
   "metadata": {
    "id": "liV5c5EnKkfP"
   },
   "source": [
    "Данные загрузились с конца 2016, поэтому загрузим из БД."
   ]
  },
  {
   "cell_type": "code",
   "execution_count": null,
   "metadata": {
    "colab": {
     "base_uri": "https://localhost:8080/"
    },
    "executionInfo": {
     "elapsed": 8,
     "status": "ok",
     "timestamp": 1707326656694,
     "user": {
      "displayName": "Alexey Manin",
      "userId": "10096143499430876936"
     },
     "user_tz": -180
    },
    "id": "Uccyp8wdKHTp",
    "outputId": "9ec6da70-27b7-4888-8683-76087257c847"
   },
   "outputs": [],
   "source": [
    "connection_idx = sqlite3.connect(r'/content/drive/MyDrive/data_quote_db/MCFTR_index_day.db', check_same_thread=True)  # Создание соединения с БД\n",
    "with connection:\n",
    "  df_idx = pd.read_sql('SELECT * FROM Day', connection_idx)  # Загрузка данных из БД\n",
    "\n",
    "print(df_idx.to_string(max_rows=6, max_cols=25))  # Проверка того, что загрузилось"
   ]
  },
  {
   "cell_type": "code",
   "execution_count": null,
   "metadata": {
    "colab": {
     "base_uri": "https://localhost:8080/"
    },
    "executionInfo": {
     "elapsed": 6,
     "status": "ok",
     "timestamp": 1707326656694,
     "user": {
      "displayName": "Alexey Manin",
      "userId": "10096143499430876936"
     },
     "user_tz": -180
    },
    "id": "GlyA8uimNv19",
    "outputId": "fcf4ae9e-71a1-42ce-93cf-ef45bde4b742"
   },
   "outputs": [],
   "source": [
    "df = df.set_index('TRADEDATE')\n",
    "df = df[['Rez_cum']]\n",
    "df['Rez_cum'] = df['Rez_cum'] / 100\n",
    "df.index = pd.to_datetime(df.index)\n",
    "print(df.to_string(max_rows=6, max_cols=25))"
   ]
  },
  {
   "cell_type": "code",
   "execution_count": null,
   "metadata": {
    "colab": {
     "base_uri": "https://localhost:8080/"
    },
    "executionInfo": {
     "elapsed": 6,
     "status": "ok",
     "timestamp": 1707326656694,
     "user": {
      "displayName": "Alexey Manin",
      "userId": "10096143499430876936"
     },
     "user_tz": -180
    },
    "id": "GJNYSQopPAsA",
    "outputId": "dc80941d-81dd-4f0a-8893-945f4102753b"
   },
   "outputs": [],
   "source": [
    "df_idx = df_idx.set_index('TRADEDATE')\n",
    "df_idx.index = pd.to_datetime(df_idx.index)\n",
    "df_idx = df_idx[['CLOSE']]\n",
    "df_idx['CLOSE'] = df_idx['CLOSE'] - 2324.27\n",
    "print(df_idx.to_string(max_rows=6, max_cols=25))"
   ]
  },
  {
   "cell_type": "code",
   "execution_count": null,
   "metadata": {
    "colab": {
     "base_uri": "https://localhost:8080/"
    },
    "executionInfo": {
     "elapsed": 5,
     "status": "ok",
     "timestamp": 1707326656694,
     "user": {
      "displayName": "Alexey Manin",
      "userId": "10096143499430876936"
     },
     "user_tz": -180
    },
    "id": "oksP5cqmRvUK",
    "outputId": "6e929602-28b5-44cd-821b-266d5e9ddc99"
   },
   "outputs": [],
   "source": [
    "df = pd.merge(df, df_idx, how='inner', left_index=True, right_index=True)  # suffixes=('_x', '_y') по умолчанию\n",
    "print(df.to_string(max_rows=6, max_cols=25))\n",
    "# df"
   ]
  },
  {
   "cell_type": "code",
   "execution_count": null,
   "metadata": {
    "colab": {
     "base_uri": "https://localhost:8080/",
     "height": 488
    },
    "executionInfo": {
     "elapsed": 4,
     "status": "ok",
     "timestamp": 1707326656694,
     "user": {
      "displayName": "Alexey Manin",
      "userId": "10096143499430876936"
     },
     "user_tz": -180
    },
    "id": "osP8LpK6b6n0",
    "outputId": "62bb491c-f93e-462f-f8aa-8812a7037e30"
   },
   "outputs": [],
   "source": [
    "plt.figure();\n",
    "plot = df.plot(title=\"Сравнение стратегии с индексом полной доходности\",\n",
    "               grid=True,\n",
    "               figsize=(10, 5.2),\n",
    "               layout='constrained')"
   ]
  }
 ],
 "metadata": {
  "colab": {
   "authorship_tag": "ABX9TyOkXO63NjybkYRm+5YKd5Hn",
   "mount_file_id": "1JUhBFkYxj2Ab3hzPRzSAL5ztwDZAmDni",
   "provenance": [
    {
     "file_id": "1JUhBFkYxj2Ab3hzPRzSAL5ztwDZAmDni",
     "timestamp": 1706292709057
    }
   ],
   "toc_visible": true
  },
  "kernelspec": {
   "display_name": "Python 3 (ipykernel)",
   "language": "python",
   "name": "python3"
  },
  "language_info": {
   "codemirror_mode": {
    "name": "ipython",
    "version": 3
   },
   "file_extension": ".py",
   "mimetype": "text/x-python",
   "name": "python",
   "nbconvert_exporter": "python",
   "pygments_lexer": "ipython3",
   "version": "3.11.5"
  }
 },
 "nbformat": 4,
 "nbformat_minor": 4
}
